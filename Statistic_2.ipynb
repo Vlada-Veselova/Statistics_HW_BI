{
 "cells": [
  {
   "cell_type": "code",
   "execution_count": 45,
   "metadata": {},
   "outputs": [],
   "source": [
    "import random\n",
    "import numpy as np\n",
    "import seaborn as sns\n",
    "import matplotlib.pyplot as plt"
   ]
  },
  {
   "cell_type": "markdown",
   "metadata": {},
   "source": [
    "# Задание 3\n",
    "#### Пусть x1, . . . , xn ∈ Bern(p). Исследуйте зависимость ширины доверительного интервала для параметра распределения p от объема выборки."
   ]
  },
  {
   "cell_type": "code",
   "execution_count": 62,
   "metadata": {},
   "outputs": [
    {
     "data": {
      "image/png": "[encoded data removed]",
      "text/plain": [
       "<Figure size 432x288 with 1 Axes>"
      ]
     },
     "metadata": {
      "needs_background": "light"
     },
     "output_type": "display_data"
    }
   ],
   "source": [
    "n = range(10, 500, 10) # зададим объемы выборок\n",
    "q = 0.999 # уровень доверительного интервала\n",
    "p = 0.3 # параметр распределения Бернулли\n",
    "x = []\n",
    "y = []\n",
    "y_1 = []\n",
    "for i in n:\n",
    "    sample = np.random.binomial(1, p, i) # создали выборку, распределенную по Бернули с параметром p объема i\n",
    "    quantile = np.quantile(sample, (1 + q)/2) #квантиль\n",
    "    sample_mean = sum(sample) / i # выборочное среднее\n",
    "    sample_var = sum([(k - sample_mean)**2 for k in sample]) / (i - 1) # исправленная выборочная дисперсия\n",
    "    width = 2*quantile*sample_var**0.5/np.sqrt(i) # длина доверительного интервала\n",
    "    # print('[', sample_mean - quantile*sample_var**0.5/np.sqrt(i), ', ', sample_mean + quantile*sample_var**0.5/np.sqrt(i), ']', sep='')\n",
    "    y.append(width) #ширина интервала\n",
    "    x.append(i) # объем выборки\n",
    "    y_1.append(1/np.sqrt(i))\n",
    "sns.lineplot(x=x, y=y_1, color='c'); # функция y(x) = 1/sqrt(x), чтобы видеть скорость сходимости\n",
    "sns.lineplot(x=x, y=y, color='r'); # рисуем график зависимости ширины интервала от объема выборки"
   ]
  },
  {
   "cell_type": "markdown",
   "metadata": {},
   "source": [
    "На графике видно, что ширина доверительного интервала уменьшается с увеличением объема выборки со скоростью O(1/sqrt(n))"
   ]
  },
  {
   "cell_type": "code",
   "execution_count": null,
   "metadata": {},
   "outputs": [],
   "source": []
  }
 ],
 "metadata": {
  "kernelspec": {
   "display_name": "Python 3",
   "language": "python",
   "name": "python3"
  },
  "language_info": {
   "codemirror_mode": {
    "name": "ipython",
    "version": 3
   },
   "file_extension": ".py",
   "mimetype": "text/x-python",
   "name": "python",
   "nbconvert_exporter": "python",
   "pygments_lexer": "ipython3",
   "version": "3.7.3"
  }
 },
 "nbformat": 4,
 "nbformat_minor": 2
}
